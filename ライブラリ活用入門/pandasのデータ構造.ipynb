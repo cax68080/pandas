{
 "cells": [
  {
   "cell_type": "markdown",
   "id": "32119fcd",
   "metadata": {},
   "source": [
    "# pandasのデータ構造"
   ]
  },
  {
   "cell_type": "markdown",
   "id": "1098c505",
   "metadata": {},
   "source": [
    "## 2.1 データを自作する"
   ]
  },
  {
   "cell_type": "markdown",
   "id": "f2878c6b",
   "metadata": {},
   "source": [
    "### 2.1.1 Seriesを作る"
   ]
  },
  {
   "cell_type": "code",
   "execution_count": 2,
   "id": "aeba9dae",
   "metadata": {},
   "outputs": [
    {
     "data": {
      "text/plain": [
       "0    banana\n",
       "1        42\n",
       "dtype: object"
      ]
     },
     "metadata": {},
     "output_type": "display_data"
    }
   ],
   "source": [
    "import pandas as pd\n",
    "s = pd.Series([\"banana\",42])\n",
    "display(s)"
   ]
  },
  {
   "cell_type": "code",
   "execution_count": 3,
   "id": "7707d939",
   "metadata": {},
   "outputs": [
    {
     "name": "stdout",
     "output_type": "stream",
     "text": [
      "Person         Wes McKinney\n",
      "Who       Creater of Pandas\n",
      "dtype: object\n"
     ]
    }
   ],
   "source": [
    "s = pd.Series(data=[\"Wes McKinney\",\"Creater of Pandas\"],index=[\"Person\",\"Who\"],)\n",
    "print(s)"
   ]
  },
  {
   "cell_type": "markdown",
   "id": "92951151",
   "metadata": {},
   "source": [
    "### 2.1.2 DataFrameを作る"
   ]
  },
  {
   "cell_type": "code",
   "execution_count": 5,
   "id": "f2f64aa9",
   "metadata": {},
   "outputs": [
    {
     "data": {
      "text/html": [
       "<div>\n",
       "<style scoped>\n",
       "    .dataframe tbody tr th:only-of-type {\n",
       "        vertical-align: middle;\n",
       "    }\n",
       "\n",
       "    .dataframe tbody tr th {\n",
       "        vertical-align: top;\n",
       "    }\n",
       "\n",
       "    .dataframe thead th {\n",
       "        text-align: right;\n",
       "    }\n",
       "</style>\n",
       "<table border=\"1\" class=\"dataframe\">\n",
       "  <thead>\n",
       "    <tr style=\"text-align: right;\">\n",
       "      <th></th>\n",
       "      <th>Name</th>\n",
       "      <th>Occupation</th>\n",
       "      <th>Borin</th>\n",
       "      <th>Died</th>\n",
       "      <th>Age</th>\n",
       "    </tr>\n",
       "  </thead>\n",
       "  <tbody>\n",
       "    <tr>\n",
       "      <th>0</th>\n",
       "      <td>Rosaline franklin</td>\n",
       "      <td>Chemist</td>\n",
       "      <td>1920-07-25</td>\n",
       "      <td>1958-04-16</td>\n",
       "      <td>37</td>\n",
       "    </tr>\n",
       "    <tr>\n",
       "      <th>1</th>\n",
       "      <td>William Gosset</td>\n",
       "      <td>Statistician</td>\n",
       "      <td>1876-06-13</td>\n",
       "      <td>1937-10-16</td>\n",
       "      <td>61</td>\n",
       "    </tr>\n",
       "  </tbody>\n",
       "</table>\n",
       "</div>"
      ],
      "text/plain": [
       "                Name    Occupation       Borin        Died  Age\n",
       "0  Rosaline franklin       Chemist  1920-07-25  1958-04-16   37\n",
       "1     William Gosset  Statistician  1876-06-13  1937-10-16   61"
      ]
     },
     "metadata": {},
     "output_type": "display_data"
    }
   ],
   "source": [
    "scientists = pd.DataFrame({\"Name\":[\"Rosaline franklin\",\"William Gosset\"],\n",
    "                          \"Occupation\":[\"Chemist\",\"Statistician\"],\n",
    "                          \"Borin\":[\"1920-07-25\",\"1876-06-13\"],\n",
    "                          \"Died\":[\"1958-04-16\",\"1937-10-16\"],\n",
    "                          \"Age\":[37,61]})\n",
    "display(scientists)"
   ]
  },
  {
   "cell_type": "code",
   "execution_count": 8,
   "id": "129f64fc",
   "metadata": {},
   "outputs": [
    {
     "data": {
      "text/html": [
       "<div>\n",
       "<style scoped>\n",
       "    .dataframe tbody tr th:only-of-type {\n",
       "        vertical-align: middle;\n",
       "    }\n",
       "\n",
       "    .dataframe tbody tr th {\n",
       "        vertical-align: top;\n",
       "    }\n",
       "\n",
       "    .dataframe thead th {\n",
       "        text-align: right;\n",
       "    }\n",
       "</style>\n",
       "<table border=\"1\" class=\"dataframe\">\n",
       "  <thead>\n",
       "    <tr style=\"text-align: right;\">\n",
       "      <th></th>\n",
       "      <th>Occupation</th>\n",
       "      <th>Born</th>\n",
       "      <th>Died</th>\n",
       "      <th>Age</th>\n",
       "    </tr>\n",
       "  </thead>\n",
       "  <tbody>\n",
       "    <tr>\n",
       "      <th>Rosaline Franklin</th>\n",
       "      <td>Chemist</td>\n",
       "      <td>1920-07-25</td>\n",
       "      <td>1958-04-16</td>\n",
       "      <td>37</td>\n",
       "    </tr>\n",
       "    <tr>\n",
       "      <th>William Gosset</th>\n",
       "      <td>Staticstician</td>\n",
       "      <td>1876-06-13</td>\n",
       "      <td>1937-10-16</td>\n",
       "      <td>61</td>\n",
       "    </tr>\n",
       "  </tbody>\n",
       "</table>\n",
       "</div>"
      ],
      "text/plain": [
       "                      Occupation        Born        Died  Age\n",
       "Rosaline Franklin        Chemist  1920-07-25  1958-04-16   37\n",
       "William Gosset     Staticstician  1876-06-13  1937-10-16   61"
      ]
     },
     "metadata": {},
     "output_type": "display_data"
    },
    {
     "name": "stdout",
     "output_type": "stream",
     "text": [
      "<class 'pandas.core.series.Series'>\n",
      "Occupation    Staticstician\n",
      "Born             1876-06-13\n",
      "Died             1937-10-16\n",
      "Age                      61\n",
      "Name: William Gosset, dtype: object\n",
      "Index(['Occupation', 'Born', 'Died', 'Age'], dtype='object')\n",
      "['Staticstician' '1876-06-13' '1937-10-16' 61]\n"
     ]
    }
   ],
   "source": [
    "scientists = pd.DataFrame(data={\n",
    "    \"Occupation\":[\"Chemist\",\"Staticstician\"],\n",
    "    \"Born\":[\"1920-07-25\",\"1876-06-13\"],\n",
    "    \"Died\":[\"1958-04-16\",\"1937-10-16\"],\n",
    "    \"Age\":[37,61],\n",
    "},\n",
    "    index=[\"Rosaline Franklin\",\"William Gosset\"],\n",
    "    columns=[\"Occupation\",\"Born\",\"Died\",\"Age\"],)\n",
    "display(scientists)\n",
    "\n",
    "first_row = scientists.loc[\"William Gosset\"]\n",
    "print(type(first_row))\n",
    "print(first_row)\n",
    "print(first_row.index)\n",
    "print(first_row.values)"
   ]
  },
  {
   "cell_type": "code",
   "execution_count": null,
   "id": "f7f4ed02",
   "metadata": {},
   "outputs": [],
   "source": []
  }
 ],
 "metadata": {
  "kernelspec": {
   "display_name": "Python 3 (ipykernel)",
   "language": "python",
   "name": "python3"
  },
  "language_info": {
   "codemirror_mode": {
    "name": "ipython",
    "version": 3
   },
   "file_extension": ".py",
   "mimetype": "text/x-python",
   "name": "python",
   "nbconvert_exporter": "python",
   "pygments_lexer": "ipython3",
   "version": "3.9.7"
  }
 },
 "nbformat": 4,
 "nbformat_minor": 5
}
