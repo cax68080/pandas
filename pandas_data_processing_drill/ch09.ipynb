{
 "cells": [
  {
   "cell_type": "markdown",
   "id": "df3fb226",
   "metadata": {},
   "outputs": [],
   "source": [
    "# 第9章 時系列データを操作しよう"
   ]
  },
  {
   "cell_type": "code",
   "id": "1e46c67d",
   "metadata": {},
   "outputs": [],
   "source": [
    "import pandas as pd\n",
    "import numpy as np"
   ]
  },
  {
   "cell_type": "markdown",
   "id": "4e08ba04",
   "metadata": {},
   "outputs": [],
   "source": [
    "---"
   ]
  },
  {
   "cell_type": "markdown",
   "id": "9039f68d",
   "metadata": {},
   "outputs": [],
   "source": [
    "## 9.1 文字列を日付時刻に変換するには"
   ]
  },
  {
   "cell_type": "code",
   "id": "7c08c54c",
   "metadata": {},
   "outputs": [],
   "source": [
    "# データの読み込み\n",
    "df = pd.read_csv(\"dataset/study_log_dirty.csv\")\n",
    "df"
   ]
  },
  {
   "cell_type": "code",
   "id": "bc14fe93",
   "metadata": {},
   "outputs": [],
   "source": [
    "df.dtypes"
   ]
  },
  {
   "cell_type": "markdown",
   "id": "10f7e07a",
   "metadata": {},
   "outputs": [],
   "source": [
    "### やってみよう"
   ]
  },
  {
   "cell_type": "code",
   "id": "0d0f6e0f",
   "metadata": {},
   "outputs": [],
   "source": []
  },
  {
   "cell_type": "markdown",
   "id": "011e01f8",
   "metadata": {},
   "outputs": [],
   "source": [
    "---"
   ]
  },
  {
   "cell_type": "markdown",
   "id": "2bc2309a",
   "metadata": {},
   "outputs": [],
   "source": [
    "## 9.2 日付や曜日の情報を抽出するには"
   ]
  },
  {
   "cell_type": "code",
   "id": "a85a2bc3",
   "metadata": {},
   "outputs": [],
   "source": [
    "# データの読み込み\n",
    "df = pd.read_csv(\n",
    "    \"dataset/study_log_jst.csv\", parse_dates=[\"start_at\", \"end_at\"]\n",
    ")\n",
    "df"
   ]
  },
  {
   "cell_type": "markdown",
   "id": "857d3490",
   "metadata": {},
   "outputs": [],
   "source": [
    "### やってみよう"
   ]
  },
  {
   "cell_type": "code",
   "id": "81ef74c4",
   "metadata": {},
   "outputs": [],
   "source": []
  },
  {
   "cell_type": "markdown",
   "id": "82d827d4",
   "metadata": {},
   "outputs": [],
   "source": [
    "---"
   ]
  },
  {
   "cell_type": "markdown",
   "id": "836fb572",
   "metadata": {},
   "outputs": [],
   "source": [
    "## 9.3 タイムゾーンを変換するには"
   ]
  },
  {
   "cell_type": "code",
   "id": "c31cb3d3",
   "metadata": {},
   "outputs": [],
   "source": [
    "# データの読み込み\n",
    "df = pd.read_csv(\n",
    "    \"dataset/study_log_naive.csv\",\n",
    "    parse_dates=[\"start_at\", \"end_at\"],\n",
    ")\n",
    "df"
   ]
  },
  {
   "cell_type": "code",
   "id": "9dae2824",
   "metadata": {},
   "outputs": [],
   "source": [
    "df[\"start_at\"]"
   ]
  },
  {
   "cell_type": "markdown",
   "id": "486ebb88",
   "metadata": {},
   "outputs": [],
   "source": [
    "### やってみよう"
   ]
  },
  {
   "cell_type": "code",
   "id": "d0de3584",
   "metadata": {},
   "outputs": [],
   "source": []
  },
  {
   "cell_type": "markdown",
   "id": "55cfa7e1",
   "metadata": {},
   "outputs": [],
   "source": [
    "---"
   ]
  },
  {
   "cell_type": "markdown",
   "id": "60b09e32",
   "metadata": {},
   "outputs": [],
   "source": [
    "## 9.4 特定の期間の行を抽出するには"
   ]
  },
  {
   "cell_type": "code",
   "id": "a20b2e83",
   "metadata": {},
   "outputs": [],
   "source": [
    "# データの読み込み\n",
    "df = pd.read_csv(\n",
    "    \"dataset/study_log_jst.csv\", parse_dates=[\"start_at\", \"end_at\"]\n",
    ")\n",
    "df"
   ]
  },
  {
   "cell_type": "markdown",
   "id": "6b0dcd76",
   "metadata": {},
   "outputs": [],
   "source": [
    "### やってみよう"
   ]
  },
  {
   "cell_type": "code",
   "id": "fe309c02",
   "metadata": {},
   "outputs": [],
   "source": []
  },
  {
   "cell_type": "markdown",
   "id": "fd75bc1c",
   "metadata": {},
   "outputs": [],
   "source": [
    "---"
   ]
  },
  {
   "cell_type": "markdown",
   "id": "7467cb00",
   "metadata": {},
   "outputs": [],
   "source": [
    "## 9.5 日時から年+週番号の列を作成するには"
   ]
  },
  {
   "cell_type": "code",
   "id": "82be6e20",
   "metadata": {},
   "outputs": [],
   "source": [
    "# データの読み込み\n",
    "df = pd.read_csv(\n",
    "    \"dataset/study_log_2months.csv\",\n",
    "    parse_dates=[\"start_at\", \"end_at\"],\n",
    ")\n",
    "df"
   ]
  },
  {
   "cell_type": "markdown",
   "id": "bae05d48",
   "metadata": {},
   "outputs": [],
   "source": [
    "### やってみよう"
   ]
  },
  {
   "cell_type": "code",
   "id": "74f397b2",
   "metadata": {},
   "outputs": [],
   "source": []
  },
  {
   "cell_type": "markdown",
   "id": "4d9d9f6e",
   "metadata": {},
   "outputs": [],
   "source": [
    "---"
   ]
  },
  {
   "cell_type": "markdown",
   "id": "29690f0b",
   "metadata": {},
   "outputs": [],
   "source": [
    "## 9.6 日時から週の開始日の列を作成するには"
   ]
  },
  {
   "cell_type": "code",
   "id": "8bcc57c7",
   "metadata": {},
   "outputs": [],
   "source": [
    "# データの読み込み\n",
    "df = pd.read_csv(\n",
    "    \"dataset/study_log_2months.csv\",\n",
    "    parse_dates=[\"start_at\", \"end_at\"],\n",
    ")\n",
    "df"
   ]
  },
  {
   "cell_type": "markdown",
   "id": "f89a41d3",
   "metadata": {},
   "outputs": [],
   "source": [
    "### やってみよう"
   ]
  },
  {
   "cell_type": "code",
   "id": "870f6c57",
   "metadata": {},
   "outputs": [],
   "source": []
  },
  {
   "cell_type": "markdown",
   "id": "bdc97989",
   "metadata": {},
   "outputs": [],
   "source": [
    "---"
   ]
  },
  {
   "cell_type": "markdown",
   "id": "ce543eed",
   "metadata": {},
   "outputs": [],
   "source": [
    "## 9.7 飛び飛びの日付のデータを補完するには"
   ]
  },
  {
   "cell_type": "code",
   "id": "2fbd7cbd",
   "metadata": {},
   "outputs": [],
   "source": [
    "# データの読み込み\n",
    "df = pd.read_csv(\n",
    "    \"dataset/study_total_minutes.csv\",\n",
    "    parse_dates=[\"date\"],\n",
    "    index_col=\"date\",\n",
    ")\n",
    "df"
   ]
  },
  {
   "cell_type": "markdown",
   "id": "8319d4cc",
   "metadata": {},
   "outputs": [],
   "source": [
    "### やってみよう"
   ]
  },
  {
   "cell_type": "code",
   "id": "eb26cc03",
   "metadata": {},
   "outputs": [],
   "source": []
  },
  {
   "cell_type": "markdown",
   "id": "b5047a13",
   "metadata": {},
   "outputs": [],
   "source": [
    "---"
   ]
  },
  {
   "cell_type": "markdown",
   "id": "528890b7",
   "metadata": {},
   "outputs": [],
   "source": [
    "## 9.8 週ごとにデータを集約するには"
   ]
  },
  {
   "cell_type": "code",
   "id": "97450764",
   "metadata": {},
   "outputs": [],
   "source": [
    "# データの読み込み\n",
    "df = pd.read_csv(\n",
    "    \"dataset/study_total_minutes_1month.csv\",\n",
    "    parse_dates=[\"date\"],\n",
    "    index_col=\"date\",\n",
    ")\n",
    "df"
   ]
  },
  {
   "cell_type": "markdown",
   "id": "5e76668e",
   "metadata": {},
   "outputs": [],
   "source": [
    "### やってみよう"
   ]
  },
  {
   "cell_type": "code",
   "id": "d0e9bf45",
   "metadata": {},
   "outputs": [],
   "source": []
  }
 ],
 "metadata": {
  "kernelspec": {
   "display_name": "Python 3 (ipykernel)",
   "language": "python",
   "name": "python3"
  },
  "language_info": {
   "codemirror_mode": {
    "name": "ipython",
    "version": 3
   },
   "file_extension": ".py",
   "mimetype": "text/x-python",
   "name": "python",
   "nbconvert_exporter": "python",
   "pygments_lexer": "ipython3",
   "version": "3.11.0"
  }
 },
 "nbformat": 4,
 "nbformat_minor": 5
}
