{
 "cells": [
  {
   "cell_type": "markdown",
   "id": "018765a6",
   "metadata": {},
   "source": [
    "# 第1章 pandasの基礎知識"
   ]
  },
  {
   "cell_type": "code",
   "execution_count": 1,
   "id": "2d5806a1",
   "metadata": {},
   "outputs": [],
   "source": [
    "import pandas as pd\n",
    "import numpy as np"
   ]
  },
  {
   "cell_type": "markdown",
   "id": "b520fa0f",
   "metadata": {},
   "source": [
    "---"
   ]
  },
  {
   "cell_type": "markdown",
   "id": "9a39fae1",
   "metadata": {},
   "source": [
    "## 1.1 データの参照と更新（`loc` / `iloc`）"
   ]
  },
  {
   "cell_type": "raw",
   "id": "3a5df310-4fe9-4abd-a280-fd5c4e09fcc6",
   "metadata": {},
   "source": [
    "df.loc[行の指定, 列の指定]\n",
    "sr.loc[行の指定]\n",
    "df.iloc[行の指定, 列の指定]\n",
    "sr.iloc[行の指定]"
   ]
  },
  {
   "cell_type": "raw",
   "id": "91bea9e9-78a6-4f37-9141-d8e25e81533f",
   "metadata": {},
   "source": [
    "df.loc[行の指定, 列の指定] = 新しい値\n",
    "sr.loc[行の指定] = 新しい値\n",
    "df.iloc[行の指定, 列の指定] = 新しい値\n",
    "sr.iloc[行の指定] = 新しい値"
   ]
  },
  {
   "cell_type": "code",
   "execution_count": 2,
   "id": "b9d1be1c",
   "metadata": {},
   "outputs": [
    {
     "data": {
      "text/html": [
       "<div>\n",
       "<style scoped>\n",
       "    .dataframe tbody tr th:only-of-type {\n",
       "        vertical-align: middle;\n",
       "    }\n",
       "\n",
       "    .dataframe tbody tr th {\n",
       "        vertical-align: top;\n",
       "    }\n",
       "\n",
       "    .dataframe thead th {\n",
       "        text-align: right;\n",
       "    }\n",
       "</style>\n",
       "<table border=\"1\" class=\"dataframe\">\n",
       "  <thead>\n",
       "    <tr style=\"text-align: right;\">\n",
       "      <th></th>\n",
       "      <th>Name</th>\n",
       "      <th>Point</th>\n",
       "    </tr>\n",
       "  </thead>\n",
       "  <tbody>\n",
       "    <tr>\n",
       "      <th>10</th>\n",
       "      <td>Alice</td>\n",
       "      <td>87</td>\n",
       "    </tr>\n",
       "    <tr>\n",
       "      <th>20</th>\n",
       "      <td>Bob</td>\n",
       "      <td>65</td>\n",
       "    </tr>\n",
       "    <tr>\n",
       "      <th>30</th>\n",
       "      <td>Carol</td>\n",
       "      <td>92</td>\n",
       "    </tr>\n",
       "  </tbody>\n",
       "</table>\n",
       "</div>"
      ],
      "text/plain": [
       "     Name  Point\n",
       "10  Alice     87\n",
       "20    Bob     65\n",
       "30  Carol     92"
      ]
     },
     "execution_count": 2,
     "metadata": {},
     "output_type": "execute_result"
    }
   ],
   "source": [
    "df = pd.DataFrame(\n",
    "    [[\"Alice\", 87], [\"Bob\", 65], [\"Carol\", 92]],\n",
    "    columns=[\"Name\", \"Point\"],\n",
    "    index=[10, 20, 30],\n",
    ")\n",
    "df"
   ]
  },
  {
   "cell_type": "code",
   "execution_count": null,
   "id": "76b2dda7",
   "metadata": {},
   "outputs": [],
   "source": [
    "sr = df.Name  # df[\"Name\"]とも書けます\n",
    "sr"
   ]
  },
  {
   "cell_type": "code",
   "execution_count": null,
   "id": "f7660507",
   "metadata": {},
   "outputs": [],
   "source": [
    "df.loc[10]"
   ]
  },
  {
   "cell_type": "code",
   "execution_count": null,
   "id": "bb2960c0",
   "metadata": {},
   "outputs": [],
   "source": [
    "sr.loc[10]"
   ]
  },
  {
   "cell_type": "code",
   "execution_count": null,
   "id": "c1c4ded3",
   "metadata": {},
   "outputs": [],
   "source": [
    "df.loc[:, \"Name\"]"
   ]
  },
  {
   "cell_type": "code",
   "execution_count": null,
   "id": "c83277a6",
   "metadata": {},
   "outputs": [],
   "source": [
    "df.loc[:, \"Name\"]\n",
    "df[\"Name\"]"
   ]
  },
  {
   "cell_type": "code",
   "execution_count": null,
   "id": "be002725",
   "metadata": {},
   "outputs": [],
   "source": [
    "# 警告のでる例\n",
    "\n",
    "df2 = df.copy()\n",
    "df2[\"Name\"][20] = \"Bill\""
   ]
  },
  {
   "cell_type": "code",
   "execution_count": null,
   "id": "e4fffb46",
   "metadata": {},
   "outputs": [],
   "source": [
    "df2.loc[20, \"Name\"] = \"Bill\""
   ]
  },
  {
   "cell_type": "code",
   "execution_count": null,
   "id": "18f4bdc8",
   "metadata": {},
   "outputs": [],
   "source": [
    "df.loc[10:20]"
   ]
  },
  {
   "cell_type": "code",
   "execution_count": null,
   "id": "e6626bf5",
   "metadata": {},
   "outputs": [],
   "source": [
    "sr.loc[10:20]"
   ]
  },
  {
   "cell_type": "code",
   "execution_count": null,
   "id": "e87e8fce",
   "metadata": {},
   "outputs": [],
   "source": [
    "columns = [\"Jan\", \"Feb\", \"Mar\", \"Apr\"]\n",
    "df4 = pd.DataFrame([[1, 2, 3, 4]], columns=columns)\n",
    "df4.loc[:, \"Feb\":\"Apr\"]"
   ]
  },
  {
   "cell_type": "code",
   "execution_count": null,
   "id": "ced44769",
   "metadata": {},
   "outputs": [],
   "source": [
    "df3 = df.copy()\n",
    "df3.index = df3.index.astype(str)\n",
    "df3[\"10\":\"20\"]"
   ]
  },
  {
   "cell_type": "code",
   "execution_count": null,
   "id": "c3792f8a",
   "metadata": {},
   "outputs": [],
   "source": [
    "sr2 = sr.copy()\n",
    "sr2.index = sr2.index.astype(str)  # 行名を文字列型に変換\n",
    "sr2[\"10\":\"20\"]"
   ]
  },
  {
   "cell_type": "code",
   "execution_count": null,
   "id": "8a391183",
   "metadata": {},
   "outputs": [],
   "source": [
    "sr3 = sr.copy()\n",
    "sr3.index = [\"20\", \"10\", \"30\"]  # ソートされていないインデックス\n",
    "sr3[\"10\":\"20\"]"
   ]
  },
  {
   "cell_type": "code",
   "execution_count": null,
   "id": "a2a989dd-638c-46e2-a477-5cabff27df61",
   "metadata": {},
   "outputs": [],
   "source": [
    "sr2[\"10\":\"3\"]"
   ]
  },
  {
   "cell_type": "code",
   "execution_count": null,
   "id": "acce7d8c",
   "metadata": {},
   "outputs": [],
   "source": [
    "df.loc[[10, 30]]"
   ]
  },
  {
   "cell_type": "code",
   "execution_count": null,
   "id": "7d120c60",
   "metadata": {},
   "outputs": [],
   "source": [
    "sr.loc[[10, 30]]"
   ]
  },
  {
   "cell_type": "code",
   "execution_count": null,
   "id": "d9b2d484",
   "metadata": {},
   "outputs": [],
   "source": [
    "df.loc[:, [\"Name\"]]"
   ]
  },
  {
   "cell_type": "code",
   "execution_count": null,
   "id": "c6ee6f13",
   "metadata": {},
   "outputs": [],
   "source": [
    "df.loc[:, [\"Name\"]]\n",
    "df[[\"Name\"]]"
   ]
  },
  {
   "cell_type": "code",
   "execution_count": null,
   "id": "6eee79c5",
   "metadata": {},
   "outputs": [],
   "source": [
    "df.loc[df[\"Point\"] >= 80]"
   ]
  },
  {
   "cell_type": "code",
   "execution_count": null,
   "id": "0dfcd2dd",
   "metadata": {},
   "outputs": [],
   "source": [
    "sr.loc[sr.str.startswith(\"A\")]"
   ]
  },
  {
   "cell_type": "code",
   "execution_count": null,
   "id": "6f1153ad",
   "metadata": {},
   "outputs": [],
   "source": [
    "df.loc[df[\"Point\"] >= 80]\n",
    "df[df[\"Point\"] >= 80]"
   ]
  },
  {
   "cell_type": "code",
   "execution_count": null,
   "id": "1c602d50",
   "metadata": {},
   "outputs": [],
   "source": [
    "# 警告のでる例\n",
    "\n",
    "df5 = df.copy()\n",
    "df5[df5[\"Point\"] >= 80][\"Point\"] = 80\n",
    "df5"
   ]
  },
  {
   "cell_type": "code",
   "execution_count": null,
   "id": "3549489e",
   "metadata": {},
   "outputs": [],
   "source": [
    "df5.loc[df5[\"Point\"] >= 80, \"Point\"] = 80\n",
    "df5"
   ]
  },
  {
   "cell_type": "code",
   "execution_count": null,
   "id": "ad2747f3",
   "metadata": {},
   "outputs": [],
   "source": [
    "df.loc[:, df.columns.str.startswith(\"Na\")]"
   ]
  },
  {
   "cell_type": "code",
   "execution_count": null,
   "id": "ccdfec2b",
   "metadata": {},
   "outputs": [],
   "source": [
    "df.iloc[0]"
   ]
  },
  {
   "cell_type": "code",
   "execution_count": null,
   "id": "152883dd",
   "metadata": {},
   "outputs": [],
   "source": [
    "df.iloc[:, 0]"
   ]
  },
  {
   "cell_type": "code",
   "execution_count": null,
   "id": "7b9ea984",
   "metadata": {},
   "outputs": [],
   "source": [
    "df.iloc[:2]"
   ]
  },
  {
   "cell_type": "code",
   "execution_count": null,
   "id": "2b817f14",
   "metadata": {},
   "outputs": [],
   "source": [
    "df[:2]"
   ]
  },
  {
   "cell_type": "code",
   "execution_count": null,
   "id": "f8be2e92",
   "metadata": {},
   "outputs": [],
   "source": [
    "df.iloc[[0, 1]]"
   ]
  },
  {
   "cell_type": "code",
   "execution_count": null,
   "id": "5922a3c2",
   "metadata": {},
   "outputs": [],
   "source": [
    "df.iloc[:, [0]]"
   ]
  },
  {
   "cell_type": "markdown",
   "id": "703bf56c-794a-435d-b217-4bcdf075c049",
   "metadata": {},
   "source": [
    "## 1.2 行の絞り込み（ブールインデックス）"
   ]
  },
  {
   "cell_type": "raw",
   "id": "ae8b4486-0e84-41d8-a6e7-c91f16cbe9a4",
   "metadata": {},
   "source": [
    "df[比較結果]  # 比較結果がTrueの行を抜き出したもの\n",
    "sr[比較結果]  # 同上"
   ]
  },
  {
   "cell_type": "code",
   "execution_count": null,
   "id": "1ff20444",
   "metadata": {},
   "outputs": [],
   "source": [
    "df = pd.DataFrame(\n",
    "    [[\"Alice\", 87, 76], [\"Bob\", 65, 88]],\n",
    "    columns=[\"Name\", \"Math\", \"Sci\"],\n",
    ")\n",
    "df"
   ]
  },
  {
   "cell_type": "code",
   "execution_count": null,
   "id": "30907412",
   "metadata": {},
   "outputs": [],
   "source": [
    "df[\"Math\"] >= 80"
   ]
  },
  {
   "cell_type": "code",
   "execution_count": null,
   "id": "a770ae0e",
   "metadata": {},
   "outputs": [],
   "source": [
    "df[df[\"Math\"] >= 80]"
   ]
  },
  {
   "cell_type": "code",
   "execution_count": null,
   "id": "0138c856",
   "metadata": {},
   "outputs": [],
   "source": [
    "df[\"Math\"] < df[\"Sci\"]"
   ]
  },
  {
   "cell_type": "code",
   "execution_count": null,
   "id": "5c9cd986",
   "metadata": {},
   "outputs": [],
   "source": [
    "df[df[\"Math\"] < df[\"Sci\"]]"
   ]
  },
  {
   "cell_type": "code",
   "execution_count": null,
   "id": "07065b52",
   "metadata": {},
   "outputs": [],
   "source": [
    "df[\"Math\"].lt(df[\"Sci\"])"
   ]
  },
  {
   "cell_type": "code",
   "execution_count": null,
   "id": "cfefd0f8",
   "metadata": {},
   "outputs": [],
   "source": [
    "df[df[\"Math\"].lt(df[\"Sci\"])]"
   ]
  },
  {
   "cell_type": "markdown",
   "id": "7da4a3e0-e587-4682-a97e-5a9649fbbbb1",
   "metadata": {},
   "source": [
    "## 1.3 インデックスの設定（`DataFrame.set_index()`）"
   ]
  },
  {
   "cell_type": "raw",
   "id": "6b8d96d6-5bca-4c64-a70d-24199b81a4dd",
   "metadata": {},
   "source": [
    "df.set_index(列名または列名のリスト)"
   ]
  },
  {
   "cell_type": "code",
   "execution_count": null,
   "id": "5e3116b7",
   "metadata": {},
   "outputs": [],
   "source": [
    "df = pd.DataFrame(\n",
    "    [\n",
    "        [\"平日\", \"大人\", 2000],\n",
    "        [\"平日\", \"小人\", 1000],\n",
    "        [\"土日祝\", \"大人\", 3000],\n",
    "        [\"土日祝\", \"小人\", 1500],\n",
    "    ],\n",
    "    columns=[\"日別\", \"年齢別\", \"料金\"],\n",
    ")\n",
    "df"
   ]
  },
  {
   "cell_type": "code",
   "execution_count": null,
   "id": "a9c8f4d4",
   "metadata": {},
   "outputs": [],
   "source": [
    "df.set_index(\"日別\")"
   ]
  },
  {
   "cell_type": "code",
   "execution_count": null,
   "id": "b9026c0e",
   "metadata": {},
   "outputs": [],
   "source": [
    "df.set_index([\"日別\", \"年齢別\"])"
   ]
  },
  {
   "cell_type": "markdown",
   "id": "525a055c-dd12-42a1-8da1-bb0bfaf2364b",
   "metadata": {},
   "source": [
    "## 1.4 インデックスのリセット（`DataFrame.reset_index()`）"
   ]
  },
  {
   "cell_type": "raw",
   "id": "6f245b4e-35c6-4cf1-83e9-5b1a7c1b8156",
   "metadata": {},
   "source": [
    "df.reset_index(drop=True)"
   ]
  },
  {
   "cell_type": "code",
   "execution_count": null,
   "id": "be600dc3",
   "metadata": {},
   "outputs": [],
   "source": [
    "df = pd.DataFrame([2, np.nan, 1], columns=[\"Point\"])\n",
    "df = df.dropna()  # 欠損値を除外してインデックスを不連続にする\n",
    "df"
   ]
  },
  {
   "cell_type": "code",
   "execution_count": null,
   "id": "419cae53",
   "metadata": {},
   "outputs": [],
   "source": [
    "df.dropna().reset_index(drop=True)"
   ]
  },
  {
   "cell_type": "raw",
   "id": "0ad35dac-d72e-46d4-b71b-d30b81895b89",
   "metadata": {},
   "source": [
    "df.reset_index()"
   ]
  },
  {
   "cell_type": "code",
   "execution_count": null,
   "id": "ecfc0c4e",
   "metadata": {},
   "outputs": [],
   "source": [
    "df = pd.DataFrame(\n",
    "    [\n",
    "        [\"Alice\", \"国語\", 100],\n",
    "        [\"Alice\", \"数学\", 80],\n",
    "        [\"Bob\", \"国語\", 40],\n",
    "        [\"Bob\", \"理科\", 80],\n",
    "    ],\n",
    "    columns=[\"Name\", \"Subject\", \"Point\"],\n",
    ")\n",
    "df"
   ]
  },
  {
   "cell_type": "code",
   "execution_count": null,
   "id": "fe7177d9",
   "metadata": {},
   "outputs": [],
   "source": [
    "df.groupby(\"Name\").mean(numeric_only=True)"
   ]
  },
  {
   "cell_type": "code",
   "execution_count": null,
   "id": "d348dffe",
   "metadata": {},
   "outputs": [],
   "source": [
    "df.groupby(\"Name\").mean(numeric_only=True).reset_index()"
   ]
  },
  {
   "cell_type": "markdown",
   "id": "17fb2eaa-3a94-4d54-b7e6-dd5128249e20",
   "metadata": {},
   "source": [
    "## 1.5 Seriesのインデックスのリセット（`Series.reset_index()`）"
   ]
  },
  {
   "cell_type": "raw",
   "id": "08191d1f-37c7-4212-9a02-ec7f37633bb0",
   "metadata": {},
   "source": [
    "sr.reset_index(drop=True)  # インデックスを通し番号に変換。結果はSeries\n",
    "sr.reset_index()  # 列をインデックスに変換。結果はDataFrame"
   ]
  },
  {
   "cell_type": "code",
   "execution_count": null,
   "id": "e436b158",
   "metadata": {},
   "outputs": [],
   "source": [
    "df = pd.DataFrame(\n",
    "    [\n",
    "        [\"Alice\", \"国語\", 100],\n",
    "        [\"Alice\", \"数学\", 80],\n",
    "        [\"Bob\", \"国語\", 40],\n",
    "        [\"Bob\", \"理科\", 80],\n",
    "    ],\n",
    "    columns=[\"Name\", \"Subject\", \"Point\"],\n",
    ")\n",
    "# 生徒ごとの点数の平均を計算\n",
    "sr = df.groupby(\"Name\").Point.mean()\n",
    "sr"
   ]
  },
  {
   "cell_type": "code",
   "execution_count": null,
   "id": "653113b6",
   "metadata": {},
   "outputs": [],
   "source": [
    "sr.reset_index(drop=True)"
   ]
  },
  {
   "cell_type": "code",
   "execution_count": null,
   "id": "7f2d7de1",
   "metadata": {},
   "outputs": [],
   "source": [
    "sr.reset_index()"
   ]
  },
  {
   "cell_type": "markdown",
   "id": "0a443438-df94-4251-85f6-a806d2bb01e8",
   "metadata": {},
   "source": [
    "## 1.6 データの結合（`DataFrame.merge()`）"
   ]
  },
  {
   "cell_type": "raw",
   "id": "57cd6bf0-0ae1-4ba0-b4e8-6da35e8b2ebd",
   "metadata": {},
   "source": [
    "df1.merge(df2, how=結合方法, on=キー)"
   ]
  },
  {
   "cell_type": "raw",
   "id": "a71ee914-e46d-45b6-b7dd-4783494af47a",
   "metadata": {},
   "source": [
    "df1.merge(df2, how=\"inner\", on=None)"
   ]
  },
  {
   "cell_type": "code",
   "execution_count": null,
   "id": "acf25116",
   "metadata": {},
   "outputs": [],
   "source": [
    "df1 = pd.DataFrame(\n",
    "    [[0, \"Alice\"], [0, \"Bob\"], [1, \"Carol\"]],\n",
    "    columns=[\"ID\", \"Name\"],\n",
    ")\n",
    "df2 = pd.DataFrame(\n",
    "    [[0, \"国語\"], [0, \"数学\"]],\n",
    "    columns=[\"ID\", \"Subject\"],\n",
    ")\n",
    "df1.merge(df2, how=\"inner\", on=None)"
   ]
  },
  {
   "cell_type": "code",
   "execution_count": null,
   "id": "5b70b352",
   "metadata": {},
   "outputs": [],
   "source": [
    "df1.merge(df2, how=\"left\")"
   ]
  },
  {
   "cell_type": "markdown",
   "id": "95b1f73b-f037-45d5-a84c-f84d84e72d11",
   "metadata": {},
   "source": [
    "## 1.7 データの結合（`DataFrame.join()`）"
   ]
  },
  {
   "cell_type": "raw",
   "id": "c4980850-1980-4383-94d0-e79f68d05663",
   "metadata": {},
   "source": [
    "df1.join(df2, on=キー, how=結合方法)"
   ]
  },
  {
   "cell_type": "raw",
   "id": "d4808e45-d4c4-4968-a14a-809316e31a41",
   "metadata": {},
   "source": [
    "df1.join(df2, on=None, how=\"left\")"
   ]
  },
  {
   "cell_type": "code",
   "execution_count": null,
   "id": "7f353ada",
   "metadata": {},
   "outputs": [],
   "source": [
    "df1 = pd.DataFrame(\n",
    "    [\"Alice\", \"Bob\", \"Carol\"],\n",
    "    index=[0, 0, 1],\n",
    "    columns=[\"Name\"],\n",
    ")\n",
    "df2 = pd.DataFrame(\n",
    "    [\"国語\", \"数学\"], index=[0, 0], columns=[\"Subject\"]\n",
    ")\n",
    "df1.join(df2, on=None, how=\"left\")"
   ]
  },
  {
   "cell_type": "code",
   "execution_count": null,
   "id": "b3b13487",
   "metadata": {},
   "outputs": [],
   "source": [
    "df3 = pd.DataFrame(\n",
    "    [[0, \"Alice\"], [0, \"Bob\"], [1, \"Carol\"]],\n",
    "    columns=[\"ID\", \"Name\"],\n",
    ")\n",
    "df3.join(df2, on=\"ID\", how=\"left\")"
   ]
  },
  {
   "cell_type": "code",
   "execution_count": null,
   "id": "13ee1814",
   "metadata": {},
   "outputs": [],
   "source": [
    "df1.join(df2, on=None, how=\"inner\")"
   ]
  },
  {
   "cell_type": "markdown",
   "id": "7456ce2c-f57f-4334-9396-eae6e64b5a9d",
   "metadata": {},
   "source": [
    "## 1.8 関数の適用（`DataFrame.apply()` / `Series.apply()`）"
   ]
  },
  {
   "cell_type": "code",
   "execution_count": null,
   "id": "b4a66f93",
   "metadata": {},
   "outputs": [],
   "source": [
    "# 利用者の年齢と割引種別を格納したデータ\n",
    "df = pd.DataFrame(\n",
    "    [[12, \"\"], [20, \"学割利用\"], [32, \"\"]], columns=[\"年齢\", \"割引種別\"]\n",
    ")\n",
    "df"
   ]
  },
  {
   "cell_type": "code",
   "execution_count": null,
   "id": "35c95119",
   "metadata": {},
   "outputs": [],
   "source": [
    "def categorize(x):\n",
    "    # 引数xには、各要素の値が渡される\n",
    "    return \"子供\" if x < 13 else \"大人\"\n",
    "\n",
    "# 列「年齢」の各要素にcategorize()を適用する\n",
    "df[\"年齢\"].apply(categorize)"
   ]
  },
  {
   "cell_type": "code",
   "execution_count": null,
   "id": "09a99da8",
   "metadata": {},
   "outputs": [],
   "source": [
    "def categorize(sr):\n",
    "    # 引数srには、各行のSeriesが渡される\n",
    "    age_type = \"子供\" if sr[\"年齢\"] < 13 else \"大人\"\n",
    "    coupon_type = f\"（{sr['割引種別']}）\" if sr[\"割引種別\"] else \"\"\n",
    "    return age_type + coupon_type  # 年齢と割引種別を連結\n",
    "\n",
    "# 各行にcategorize()を適用する（列に沿った処理）\n",
    "df.apply(categorize, axis=1)"
   ]
  },
  {
   "cell_type": "markdown",
   "id": "10353dda-561e-41fb-82ba-49b716b92e6c",
   "metadata": {},
   "source": [
    "## 1.9 データのグループ化（`DataFrame.groupby()`）"
   ]
  },
  {
   "cell_type": "raw",
   "id": "d2d17d3d-2dee-4f3a-a7f5-5a200a30c281",
   "metadata": {},
   "source": [
    "# 指定した列でグループ化（結果はDataFrameGroupByオブジェクト）\n",
    "grouped = df.groupby(列名または列名のリスト)\n",
    "# 集約メソッドと組み合わせて、グループごとにデータを集約\n",
    "grouped.集約メソッド()"
   ]
  },
  {
   "cell_type": "code",
   "execution_count": null,
   "id": "3bec514a",
   "metadata": {},
   "outputs": [],
   "source": [
    "# 生徒ごとの身長と体重を記録したデータ\n",
    "df = pd.DataFrame(\n",
    "    [[\"A\", 172, 63], [\"A\", 160, 54], [\"B\", 155, 51], [\"B\", 162, 59]],\n",
    "    columns=[\"クラス\", \"身長\", \"体重\"],\n",
    ")\n",
    "df"
   ]
  },
  {
   "cell_type": "code",
   "execution_count": null,
   "id": "e0c669d5",
   "metadata": {},
   "outputs": [],
   "source": [
    "# 各クラスの平均値\n",
    "df.groupby(\"クラス\").mean()"
   ]
  },
  {
   "cell_type": "code",
   "execution_count": null,
   "id": "9e02f02d",
   "metadata": {},
   "outputs": [],
   "source": [
    "# 各クラスの身長の平均値\n",
    "df.groupby(\"クラス\")[\"身長\"].mean()"
   ]
  }
 ],
 "metadata": {
  "kernelspec": {
   "display_name": "Python 3 (ipykernel)",
   "language": "python",
   "name": "python3"
  },
  "language_info": {
   "codemirror_mode": {
    "name": "ipython",
    "version": 3
   },
   "file_extension": ".py",
   "mimetype": "text/x-python",
   "name": "python",
   "nbconvert_exporter": "python",
   "pygments_lexer": "ipython3",
   "version": "3.9.7"
  }
 },
 "nbformat": 4,
 "nbformat_minor": 5
}
