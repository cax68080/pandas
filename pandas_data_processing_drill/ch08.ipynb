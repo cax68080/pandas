{
 "cells": [
  {
   "cell_type": "markdown",
   "id": "b911e956",
   "metadata": {},
   "outputs": [],
   "source": [
    "# 第8章 文字列を操作しよう"
   ]
  },
  {
   "cell_type": "code",
   "id": "0f0f0ec7",
   "metadata": {},
   "outputs": [],
   "source": [
    "import pandas as pd\n",
    "import numpy as np"
   ]
  },
  {
   "cell_type": "markdown",
   "id": "856b0b61",
   "metadata": {},
   "outputs": [],
   "source": [
    "---"
   ]
  },
  {
   "cell_type": "markdown",
   "id": "0570fc1e",
   "metadata": {},
   "outputs": [],
   "source": [
    "## 8.1 列内の文字列を置換するには"
   ]
  },
  {
   "cell_type": "code",
   "id": "7823dca9",
   "metadata": {},
   "outputs": [],
   "source": [
    "# データの読み込み\n",
    "df = pd.read_csv(\"dataset/review.csv\", index_col=\"user_id\")\n",
    "df"
   ]
  },
  {
   "cell_type": "markdown",
   "id": "9ccd889b",
   "metadata": {},
   "outputs": [],
   "source": [
    "### やってみよう"
   ]
  },
  {
   "cell_type": "code",
   "id": "33f52f2c",
   "metadata": {},
   "outputs": [],
   "source": []
  },
  {
   "cell_type": "markdown",
   "id": "e98029ea",
   "metadata": {},
   "outputs": [],
   "source": [
    "---"
   ]
  },
  {
   "cell_type": "markdown",
   "id": "1f99a05c",
   "metadata": {},
   "outputs": [],
   "source": [
    "## 8.2 列から特定の文字列パターンだけを抽出するには"
   ]
  },
  {
   "cell_type": "code",
   "id": "85f808cc",
   "metadata": {},
   "outputs": [],
   "source": [
    "# データの読み込み\n",
    "df = pd.read_csv(\"dataset/review.csv\", index_col=\"user_id\")\n",
    "df"
   ]
  },
  {
   "cell_type": "markdown",
   "id": "f9826094",
   "metadata": {},
   "outputs": [],
   "source": [
    "### やってみよう"
   ]
  },
  {
   "cell_type": "code",
   "id": "52537008",
   "metadata": {},
   "outputs": [],
   "source": []
  },
  {
   "cell_type": "markdown",
   "id": "20abffca",
   "metadata": {},
   "outputs": [],
   "source": [
    "---"
   ]
  },
  {
   "cell_type": "markdown",
   "id": "67b3e25d",
   "metadata": {},
   "outputs": [],
   "source": [
    "## 8.3 特定の文字列を含んでいる行を除くには"
   ]
  },
  {
   "cell_type": "code",
   "id": "db18a675",
   "metadata": {},
   "outputs": [],
   "source": [
    "# データの読み込み\n",
    "df = pd.read_csv(\"dataset/review.csv\", index_col=\"user_id\")\n",
    "df"
   ]
  },
  {
   "cell_type": "markdown",
   "id": "931d9a64",
   "metadata": {},
   "outputs": [],
   "source": [
    "### やってみよう"
   ]
  },
  {
   "cell_type": "code",
   "id": "87389480",
   "metadata": {},
   "outputs": [],
   "source": []
  },
  {
   "cell_type": "markdown",
   "id": "64975cdf",
   "metadata": {},
   "outputs": [],
   "source": [
    "---"
   ]
  },
  {
   "cell_type": "markdown",
   "id": "5ee39c07",
   "metadata": {},
   "outputs": [],
   "source": [
    "## 8.4 どちらかの文字列を含む行を除くには"
   ]
  },
  {
   "cell_type": "code",
   "id": "3881007b",
   "metadata": {},
   "outputs": [],
   "source": [
    "# データの読み込み\n",
    "df = pd.read_csv(\"dataset/review.csv\", index_col=\"user_id\")\n",
    "df"
   ]
  },
  {
   "cell_type": "markdown",
   "id": "4b7302e5",
   "metadata": {},
   "outputs": [],
   "source": [
    "### やってみよう"
   ]
  },
  {
   "cell_type": "code",
   "id": "9a72143a",
   "metadata": {},
   "outputs": [],
   "source": []
  },
  {
   "cell_type": "markdown",
   "id": "4e7f896c",
   "metadata": {},
   "outputs": [],
   "source": [
    "---"
   ]
  },
  {
   "cell_type": "markdown",
   "id": "88d3146b",
   "metadata": {},
   "outputs": [],
   "source": [
    "## 8.5 正規表現にマッチする行を抽出するには"
   ]
  },
  {
   "cell_type": "code",
   "id": "cfe96346",
   "metadata": {},
   "outputs": [],
   "source": [
    "# データの読み込み\n",
    "df = pd.read_csv(\"dataset/room.csv\")\n",
    "df"
   ]
  },
  {
   "cell_type": "markdown",
   "id": "3bd4cecc",
   "metadata": {},
   "outputs": [],
   "source": [
    "### やってみよう"
   ]
  },
  {
   "cell_type": "code",
   "id": "4b2a88e8",
   "metadata": {},
   "outputs": [],
   "source": []
  },
  {
   "cell_type": "markdown",
   "id": "3d368d56",
   "metadata": {},
   "outputs": [],
   "source": [
    "---"
   ]
  },
  {
   "cell_type": "markdown",
   "id": "c2e8b6fd",
   "metadata": {},
   "outputs": [],
   "source": [
    "## 8.6 文字列を分割してダミー変数にするには"
   ]
  },
  {
   "cell_type": "code",
   "id": "83144c10",
   "metadata": {},
   "outputs": [],
   "source": [
    "# データの読み込み\n",
    "df = pd.read_table(\"dataset/enquete.tsv\")\n",
    "df"
   ]
  },
  {
   "cell_type": "markdown",
   "id": "69d115fa",
   "metadata": {},
   "outputs": [],
   "source": [
    "### やってみよう"
   ]
  },
  {
   "cell_type": "code",
   "id": "b08dcb0d",
   "metadata": {},
   "outputs": [],
   "source": []
  }
 ],
 "metadata": {
  "kernelspec": {
   "display_name": "Python 3 (ipykernel)",
   "language": "python",
   "name": "python3"
  },
  "language_info": {
   "codemirror_mode": {
    "name": "ipython",
    "version": 3
   },
   "file_extension": ".py",
   "mimetype": "text/x-python",
   "name": "python",
   "nbconvert_exporter": "python",
   "pygments_lexer": "ipython3",
   "version": "3.11.0"
  }
 },
 "nbformat": 4,
 "nbformat_minor": 5
}
