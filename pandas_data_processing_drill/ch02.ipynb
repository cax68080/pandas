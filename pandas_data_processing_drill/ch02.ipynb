{
 "cells": [
  {
   "cell_type": "markdown",
   "id": "3c46a81c",
   "metadata": {},
   "outputs": [],
   "source": [
    "# 第2章 データを入出力しよう"
   ]
  },
  {
   "cell_type": "code",
   "id": "8278bef6",
   "metadata": {},
   "outputs": [],
   "source": [
    "import pandas as pd\n",
    "import numpy as np"
   ]
  },
  {
   "cell_type": "markdown",
   "id": "fe38c684",
   "metadata": {},
   "outputs": [],
   "source": [
    "---"
   ]
  },
  {
   "cell_type": "markdown",
   "id": "4dc68dab",
   "metadata": {},
   "outputs": [],
   "source": [
    "## 2.1 CSVファイル保存時の余計な列を除くには"
   ]
  },
  {
   "cell_type": "code",
   "id": "92a8701e",
   "metadata": {},
   "outputs": [],
   "source": [
    "df = pd.DataFrame(\n",
    "    [\n",
    "        [\"Alice\", \"国語\", 87],\n",
    "        [\"Alice\", \"数学\", 72],\n",
    "        [\"Bob\", \"国語\", 65],\n",
    "        [\"Bob\", \"数学\", 92],\n",
    "    ],\n",
    "    columns=[\"Name\", \"Subject\", \"Point\"],\n",
    ")\n",
    "df"
   ]
  },
  {
   "cell_type": "markdown",
   "id": "bf75438a",
   "metadata": {},
   "outputs": [],
   "source": [
    "### やってみよう"
   ]
  },
  {
   "cell_type": "code",
   "id": "575c4bb1",
   "metadata": {},
   "outputs": [],
   "source": []
  },
  {
   "cell_type": "markdown",
   "id": "bf77091b",
   "metadata": {},
   "outputs": [],
   "source": [
    "---"
   ]
  },
  {
   "cell_type": "markdown",
   "id": "321345fa",
   "metadata": {},
   "outputs": [],
   "source": [
    "## 2.2 ファイルのエンコーディングエラーを解消するには"
   ]
  },
  {
   "cell_type": "code",
   "id": "a35575ee",
   "metadata": {},
   "outputs": [],
   "source": [
    "df = pd.DataFrame(\n",
    "    [\n",
    "        [\"Alice\", \"国語\", 87],\n",
    "        [\"Alice\", \"数学\", 72],\n",
    "        [\"Bob\", \"国語\", 65],\n",
    "        [\"Bob\", \"数学\", 92],\n",
    "    ],\n",
    "    columns=[\"Name\", \"Subject\", \"Point\"],\n",
    ")\n",
    "# CSVファイル出力\n",
    "df.to_csv(\"test_score.csv\", index=False)\n",
    "\n",
    "with open(\"test_score.csv\") as fp:\n",
    "    print(fp.read())  # UnicodeDecodeErrorや文字化け"
   ]
  },
  {
   "cell_type": "markdown",
   "id": "a12178d7",
   "metadata": {},
   "outputs": [],
   "source": [
    "### やってみよう"
   ]
  },
  {
   "cell_type": "code",
   "id": "c7cee1ff",
   "metadata": {},
   "outputs": [],
   "source": []
  },
  {
   "cell_type": "markdown",
   "id": "f1ba6f06",
   "metadata": {},
   "outputs": [],
   "source": [
    "---"
   ]
  },
  {
   "cell_type": "markdown",
   "id": "a29625e2",
   "metadata": {},
   "outputs": [],
   "source": [
    "## 2.3 タブ区切り形式のファイルを読み込むには"
   ]
  },
  {
   "cell_type": "markdown",
   "id": "1374bd24",
   "metadata": {},
   "outputs": [],
   "source": [
    "### やってみよう"
   ]
  },
  {
   "cell_type": "code",
   "id": "0650463e",
   "metadata": {},
   "outputs": [],
   "source": []
  }
 ],
 "metadata": {
  "kernelspec": {
   "display_name": "Python 3 (ipykernel)",
   "language": "python",
   "name": "python3"
  },
  "language_info": {
   "codemirror_mode": {
    "name": "ipython",
    "version": 3
   },
   "file_extension": ".py",
   "mimetype": "text/x-python",
   "name": "python",
   "nbconvert_exporter": "python",
   "pygments_lexer": "ipython3",
   "version": "3.11.0"
  }
 },
 "nbformat": 4,
 "nbformat_minor": 5
}
