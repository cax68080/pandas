{
 "cells": [
  {
   "cell_type": "markdown",
   "id": "3da5c110",
   "metadata": {},
   "outputs": [],
   "source": [
    "# 第10章 テーブル表示を見やすくしよう"
   ]
  },
  {
   "cell_type": "code",
   "id": "ca770318",
   "metadata": {},
   "outputs": [],
   "source": [
    "import pandas as pd\n",
    "import numpy as np"
   ]
  },
  {
   "cell_type": "markdown",
   "id": "9cee4970",
   "metadata": {},
   "outputs": [],
   "source": [
    "---"
   ]
  },
  {
   "cell_type": "markdown",
   "id": "e46126b0",
   "metadata": {},
   "outputs": [],
   "source": [
    "## 10.1 値によってスタイルを変えるには"
   ]
  },
  {
   "cell_type": "code",
   "id": "0c117cb4",
   "metadata": {},
   "outputs": [],
   "source": [
    "# データの読み込み\n",
    "df = pd.read_csv(\"dataset/score.csv\")\n",
    "df"
   ]
  },
  {
   "cell_type": "markdown",
   "id": "5672b838",
   "metadata": {},
   "outputs": [],
   "source": [
    "### やってみよう"
   ]
  },
  {
   "cell_type": "code",
   "id": "2efded59",
   "metadata": {},
   "outputs": [],
   "source": []
  },
  {
   "cell_type": "markdown",
   "id": "911697cd",
   "metadata": {},
   "outputs": [],
   "source": [
    "---"
   ]
  },
  {
   "cell_type": "markdown",
   "id": "1570b874",
   "metadata": {},
   "outputs": [],
   "source": [
    "## 10.2 平均値未満の値のスタイルを変えるには"
   ]
  },
  {
   "cell_type": "code",
   "id": "a1c56344",
   "metadata": {},
   "outputs": [],
   "source": [
    "# データの読み込み\n",
    "df = pd.read_csv(\"dataset/score.csv\")\n",
    "df"
   ]
  },
  {
   "cell_type": "code",
   "id": "08ca254a",
   "metadata": {},
   "outputs": [],
   "source": [
    "# 各教科の平均点を計算\n",
    "df.mean(numeric_only=True)"
   ]
  },
  {
   "cell_type": "markdown",
   "id": "aadf4983",
   "metadata": {},
   "outputs": [],
   "source": [
    "### やってみよう"
   ]
  },
  {
   "cell_type": "code",
   "id": "87fe915a",
   "metadata": {},
   "outputs": [],
   "source": []
  },
  {
   "cell_type": "markdown",
   "id": "49d69641",
   "metadata": {},
   "outputs": [],
   "source": [
    "---"
   ]
  },
  {
   "cell_type": "markdown",
   "id": "0ce95bad",
   "metadata": {},
   "outputs": [],
   "source": [
    "## 10.3 値が大きいほど背景色を濃くするには"
   ]
  },
  {
   "cell_type": "code",
   "id": "266cb6cc",
   "metadata": {},
   "outputs": [],
   "source": [
    "# データの読み込み\n",
    "df = pd.read_csv(\"dataset/score.csv\")\n",
    "df"
   ]
  },
  {
   "cell_type": "markdown",
   "id": "6ade5a71",
   "metadata": {},
   "outputs": [],
   "source": [
    "### やってみよう"
   ]
  },
  {
   "cell_type": "code",
   "id": "65b01d29",
   "metadata": {},
   "outputs": [],
   "source": []
  },
  {
   "cell_type": "markdown",
   "id": "fb8ef5cf",
   "metadata": {},
   "outputs": [],
   "source": [
    "---"
   ]
  },
  {
   "cell_type": "markdown",
   "id": "1a756e07",
   "metadata": {},
   "outputs": [],
   "source": [
    "## 10.4 Jupyterのセルの途中でDataFrameを表示するには"
   ]
  },
  {
   "cell_type": "code",
   "id": "89d5f13b",
   "metadata": {},
   "outputs": [],
   "source": [
    "# データの読み込み\n",
    "df = pd.read_csv(\"dataset/score.csv\")\n",
    "df"
   ]
  },
  {
   "cell_type": "code",
   "id": "7fbdbd86",
   "metadata": {},
   "outputs": [],
   "source": [
    "for column in [\"国語\", \"数学\", \"理科\", \"社会\"]:\n",
    "    filtered_df = df[df[column] >= 90]\n",
    "    print(f\"==={column}が90点以上の生徒のデータ===\")\n",
    "    print(filtered_df)  # 90点以上の生徒のデータを表示"
   ]
  },
  {
   "cell_type": "markdown",
   "id": "b02fcfd8",
   "metadata": {},
   "outputs": [],
   "source": [
    "### やってみよう"
   ]
  },
  {
   "cell_type": "code",
   "id": "64e4db40",
   "metadata": {},
   "outputs": [],
   "source": []
  },
  {
   "cell_type": "markdown",
   "id": "35394058",
   "metadata": {},
   "outputs": [],
   "source": [
    "---"
   ]
  },
  {
   "cell_type": "markdown",
   "id": "b0cd69e6",
   "metadata": {},
   "outputs": [],
   "source": [
    "## 10.5 pandasの行を省略させずに表示するには"
   ]
  },
  {
   "cell_type": "code",
   "id": "0a00133d",
   "metadata": {},
   "outputs": [],
   "source": [
    "# データの読み込み\n",
    "df = pd.read_csv(\"dataset/score_long.csv\")\n",
    "df"
   ]
  },
  {
   "cell_type": "markdown",
   "id": "4c3c295a",
   "metadata": {},
   "outputs": [],
   "source": [
    "### やってみよう"
   ]
  },
  {
   "cell_type": "code",
   "id": "7ee6cde1",
   "metadata": {},
   "outputs": [],
   "source": []
  },
  {
   "cell_type": "markdown",
   "id": "77ecd37a",
   "metadata": {},
   "outputs": [],
   "source": [
    "---"
   ]
  },
  {
   "cell_type": "markdown",
   "id": "98a31879",
   "metadata": {},
   "outputs": [],
   "source": [
    "## 10.6 数値の書式を指定するには"
   ]
  },
  {
   "cell_type": "code",
   "id": "083a8da7",
   "metadata": {},
   "outputs": [],
   "source": [
    "# データの読み込み\n",
    "df = pd.read_csv(\"dataset/ctr.csv\")\n",
    "df"
   ]
  },
  {
   "cell_type": "markdown",
   "id": "cd7d6a01",
   "metadata": {},
   "outputs": [],
   "source": [
    "### やってみよう"
   ]
  },
  {
   "cell_type": "code",
   "id": "22ca7237",
   "metadata": {},
   "outputs": [],
   "source": []
  },
  {
   "cell_type": "markdown",
   "id": "c155199b",
   "metadata": {},
   "outputs": [],
   "source": [
    "---"
   ]
  },
  {
   "cell_type": "markdown",
   "id": "b6f25207",
   "metadata": {},
   "outputs": [],
   "source": [
    "## 10.7 複数のスタイルを適用するには"
   ]
  },
  {
   "cell_type": "code",
   "id": "8bed51c4",
   "metadata": {},
   "outputs": [],
   "source": [
    "# データの読み込み\n",
    "df = pd.read_csv(\"dataset/ctr.csv\", index_col=\"月\")\n",
    "df"
   ]
  },
  {
   "cell_type": "markdown",
   "id": "4b98ae2e",
   "metadata": {},
   "outputs": [],
   "source": [
    "### やってみよう"
   ]
  },
  {
   "cell_type": "code",
   "id": "60c0606b",
   "metadata": {},
   "outputs": [],
   "source": []
  }
 ],
 "metadata": {
  "kernelspec": {
   "display_name": "Python 3 (ipykernel)",
   "language": "python",
   "name": "python3"
  },
  "language_info": {
   "codemirror_mode": {
    "name": "ipython",
    "version": 3
   },
   "file_extension": ".py",
   "mimetype": "text/x-python",
   "name": "python",
   "nbconvert_exporter": "python",
   "pygments_lexer": "ipython3",
   "version": "3.11.0"
  }
 },
 "nbformat": 4,
 "nbformat_minor": 5
}
