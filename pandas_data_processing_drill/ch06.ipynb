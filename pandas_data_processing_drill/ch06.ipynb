{
 "cells": [
  {
   "cell_type": "markdown",
   "id": "1230e79e",
   "metadata": {},
   "outputs": [],
   "source": [
    "# 第6章 データを加工・演算しよう"
   ]
  },
  {
   "cell_type": "code",
   "id": "062b7d4e",
   "metadata": {},
   "outputs": [],
   "source": [
    "import pandas as pd\n",
    "import numpy as np"
   ]
  },
  {
   "cell_type": "markdown",
   "id": "2ff7f97c",
   "metadata": {},
   "outputs": [],
   "source": [
    "---"
   ]
  },
  {
   "cell_type": "markdown",
   "id": "6146a015",
   "metadata": {},
   "outputs": [],
   "source": [
    "## 6.1 負の値を0に置換するには"
   ]
  },
  {
   "cell_type": "code",
   "id": "82f423e8",
   "metadata": {},
   "outputs": [],
   "source": [
    "sr = pd.Series([122, -3, 67])\n",
    "sr"
   ]
  },
  {
   "cell_type": "markdown",
   "id": "4a373a37",
   "metadata": {},
   "outputs": [],
   "source": [
    "### やってみよう"
   ]
  },
  {
   "cell_type": "code",
   "id": "2f3d1d3e",
   "metadata": {},
   "outputs": [],
   "source": []
  },
  {
   "cell_type": "markdown",
   "id": "dbf729bf",
   "metadata": {},
   "outputs": [],
   "source": [
    "---"
   ]
  },
  {
   "cell_type": "markdown",
   "id": "06befeaf",
   "metadata": {},
   "outputs": [],
   "source": [
    "## 6.2 欠損値を置換するには"
   ]
  },
  {
   "cell_type": "code",
   "id": "1307720a",
   "metadata": {},
   "outputs": [],
   "source": [
    "df = pd.DataFrame([80, 100, 79, np.nan, 91], columns=[\"Point\"])\n",
    "df"
   ]
  },
  {
   "cell_type": "markdown",
   "id": "0c637f69",
   "metadata": {},
   "outputs": [],
   "source": [
    "### やってみよう"
   ]
  },
  {
   "cell_type": "code",
   "id": "39afd0d3",
   "metadata": {},
   "outputs": [],
   "source": []
  },
  {
   "cell_type": "markdown",
   "id": "9d7d02aa",
   "metadata": {},
   "outputs": [],
   "source": [
    "---"
   ]
  },
  {
   "cell_type": "markdown",
   "id": "d620e3c3",
   "metadata": {},
   "outputs": [],
   "source": [
    "## 6.3 欠損値を別の列の値で補完するには"
   ]
  },
  {
   "cell_type": "code",
   "id": "b10e68ca",
   "metadata": {},
   "outputs": [],
   "source": [
    "df = pd.DataFrame(\n",
    "    [\n",
    "        [\"Alice\", \"国語\", 87, 83],\n",
    "        [\"Alice\", \"数学\", 72, np.nan],\n",
    "        [\"Bob\", \"国語\", 65, np.nan],\n",
    "        [\"Bob\", \"数学\", 92, 86],\n",
    "    ],\n",
    "    columns=[\"Name\", \"Subject\", \"Point\", \"Last\"],\n",
    ")\n",
    "df"
   ]
  },
  {
   "cell_type": "markdown",
   "id": "9855d530",
   "metadata": {},
   "outputs": [],
   "source": [
    "### やってみよう"
   ]
  },
  {
   "cell_type": "code",
   "id": "f19260de",
   "metadata": {},
   "outputs": [],
   "source": []
  },
  {
   "cell_type": "markdown",
   "id": "75fd871b",
   "metadata": {},
   "outputs": [],
   "source": [
    "---"
   ]
  },
  {
   "cell_type": "markdown",
   "id": "93c673c7",
   "metadata": {},
   "outputs": [],
   "source": [
    "## 6.4 重複する行を削除するには"
   ]
  },
  {
   "cell_type": "code",
   "id": "d24edddd",
   "metadata": {},
   "outputs": [],
   "source": [
    "df = pd.DataFrame(\n",
    "    [\n",
    "        [\"Alice\", \"国語\", 87],\n",
    "        [\"Alice\", \"数学\", 0],  # 修正前のデータ\n",
    "        [\"Bob\", \"国語\", 65],\n",
    "        [\"Bob\", \"数学\", 92],\n",
    "        [\"Alice\", \"数学\", 72],  # 修正後のデータ\n",
    "    ],\n",
    "    columns=[\"Name\", \"Subject\", \"Point\"],\n",
    ")\n",
    "df"
   ]
  },
  {
   "cell_type": "markdown",
   "id": "dae74ef1",
   "metadata": {},
   "outputs": [],
   "source": [
    "### やってみよう"
   ]
  },
  {
   "cell_type": "code",
   "id": "40a21aac",
   "metadata": {},
   "outputs": [],
   "source": []
  },
  {
   "cell_type": "markdown",
   "id": "9ffc4b1e",
   "metadata": {},
   "outputs": [],
   "source": [
    "---"
   ]
  },
  {
   "cell_type": "markdown",
   "id": "120a6c5e",
   "metadata": {},
   "outputs": [],
   "source": [
    "## 6.5 特定の列のTop3の順位を追加するには"
   ]
  },
  {
   "cell_type": "code",
   "id": "f1db3886",
   "metadata": {},
   "outputs": [],
   "source": [
    "df = pd.DataFrame(\n",
    "    [\n",
    "        [\"Alice\", \"国語\", 92],\n",
    "        [\"Alice\", \"数学\", 72],\n",
    "        [\"Bob\", \"国語\", 65],\n",
    "        [\"Bob\", \"数学\", 92],\n",
    "    ],\n",
    "    columns=[\"Name\", \"Subject\", \"Point\"],\n",
    ")\n",
    "df"
   ]
  },
  {
   "cell_type": "markdown",
   "id": "30c3f8a2",
   "metadata": {},
   "outputs": [],
   "source": [
    "### やってみよう"
   ]
  },
  {
   "cell_type": "code",
   "id": "9cd35111",
   "metadata": {},
   "outputs": [],
   "source": []
  },
  {
   "cell_type": "markdown",
   "id": "74845485",
   "metadata": {},
   "outputs": [],
   "source": [
    "---"
   ]
  },
  {
   "cell_type": "markdown",
   "id": "7243a611",
   "metadata": {},
   "outputs": [],
   "source": [
    "## 6.6 指定した境界値で階級を分けるには"
   ]
  },
  {
   "cell_type": "code",
   "id": "baf8ee71",
   "metadata": {},
   "outputs": [],
   "source": [
    "rnd = np.random.default_rng(3)\n",
    "df = pd.DataFrame(rnd.standard_normal(100), columns=[\"Value\"])\n",
    "df"
   ]
  },
  {
   "cell_type": "markdown",
   "id": "f706153d",
   "metadata": {},
   "outputs": [],
   "source": [
    "### やってみよう"
   ]
  },
  {
   "cell_type": "code",
   "id": "73ab1842",
   "metadata": {},
   "outputs": [],
   "source": []
  },
  {
   "cell_type": "markdown",
   "id": "31af5097",
   "metadata": {},
   "outputs": [],
   "source": [
    "---"
   ]
  },
  {
   "cell_type": "markdown",
   "id": "0b1eb584",
   "metadata": {},
   "outputs": [],
   "source": [
    "## 6.7 四分位数で階級を分けるには"
   ]
  },
  {
   "cell_type": "code",
   "id": "ba45326d",
   "metadata": {},
   "outputs": [],
   "source": [
    "rnd = np.random.default_rng(3)\n",
    "df = pd.DataFrame(rnd.standard_normal(100), columns=[\"Value\"])\n",
    "df"
   ]
  },
  {
   "cell_type": "markdown",
   "id": "27dbd01b",
   "metadata": {},
   "outputs": [],
   "source": [
    "### やってみよう"
   ]
  },
  {
   "cell_type": "code",
   "id": "6e7f7174",
   "metadata": {},
   "outputs": [],
   "source": []
  }
 ],
 "metadata": {
  "kernelspec": {
   "display_name": "Python 3 (ipykernel)",
   "language": "python",
   "name": "python3"
  },
  "language_info": {
   "codemirror_mode": {
    "name": "ipython",
    "version": 3
   },
   "file_extension": ".py",
   "mimetype": "text/x-python",
   "name": "python",
   "nbconvert_exporter": "python",
   "pygments_lexer": "ipython3",
   "version": "3.11.0"
  }
 },
 "nbformat": 4,
 "nbformat_minor": 5
}
